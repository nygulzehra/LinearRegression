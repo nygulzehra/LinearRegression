{
 "cells": [
  {
   "cell_type": "code",
   "execution_count": 3,
   "id": "02e203b7",
   "metadata": {},
   "outputs": [],
   "source": [
    "import pandas as pd\n",
    "import numpy as np\n",
    "from bs4 import BeautifulSoup\n",
    "import requests\n",
    "import pandas as pd\n",
    "import time, os\n",
    "from selenium import webdriver\n",
    "from selenium.webdriver.common.by import By\n",
    "from selenium.webdriver.chrome.service import Service as ChromeService\n"
   ]
  },
  {
   "cell_type": "markdown",
   "id": "52d1f0a3",
   "metadata": {},
   "source": [
    "create pages list for arabam.com to get each car's link"
   ]
  },
  {
   "cell_type": "code",
   "execution_count": null,
   "id": "9d0e364b",
   "metadata": {},
   "outputs": [],
   "source": [
    "def get_pages_list():\n",
    "    first_page = \"https://www.arabam.com/ikinci-el/otomobil?take=50\"\n",
    "    page_list = []\n",
    "    for i in range(2, 50):\n",
    "        page_list.append(first_page + \"&page=\" + str(i))\n",
    "    print(page_list)\n"
   ]
  },
  {
   "cell_type": "code",
   "execution_count": null,
   "id": "6f5c510b",
   "metadata": {},
   "outputs": [],
   "source": [
    "get_pages_list()"
   ]
  },
  {
   "cell_type": "code",
   "execution_count": null,
   "id": "ba19a521",
   "metadata": {},
   "outputs": [],
   "source": [
    "def scroll_down():\n",
    "    for j in range(2):\n",
    "        driver.execute_script(\"window.scrollTo(0, document.documentElement.scrollHeight);\")  # Kaydırma İşlemi\n",
    "        time.sleep(1)  # wait for one second after each scroll\n"
   ]
  },
  {
   "cell_type": "code",
   "execution_count": 4,
   "id": "344e91d2",
   "metadata": {},
   "outputs": [],
   "source": [
    "chrome_driver_path = \"/Users/zehragul/Documents/Development/chromedriver\"\n",
    "service = ChromeService(executable_path=chrome_driver_path)\n",
    "driver = webdriver.Chrome(service=service)"
   ]
  },
  {
   "cell_type": "code",
   "execution_count": null,
   "id": "8eeafd8e",
   "metadata": {},
   "outputs": [],
   "source": [
    "with open(\"car_list.txt\",\"r\") as data_file:\n",
    "        cars = data_file.readlines()\n"
   ]
  },
  {
   "cell_type": "code",
   "execution_count": null,
   "id": "0ccbea3f",
   "metadata": {},
   "outputs": [],
   "source": [
    "result = []\n",
    "\n",
    "for car in cars:\n",
    "\n",
    "    driver.get(cars)\n",
    "    driver.implicitly_wait(2)\n",
    "    scroll_down()\n",
    "\n",
    "\n",
    "    try:\n",
    "        fiyat = driver.find_element(by=By.XPATH, value='//*[@id=\"js-hook-for-observer-detail\"]/div[2]/div[1]/div/div').text.replace(\"TL\",\"\")\n",
    "        fiyat = fiyat.replace(\".\", \"\")\n",
    "    except:\n",
    "        fiyat = np.nan\n",
    "    \n",
    "    try:\n",
    "        yil = int(driver.find_element(by=By.XPATH, value='//*[@id=\"js-hook-for-observer-detail\"]/div[2]/ul/li[6]/span[2]').text)\n",
    "    except:\n",
    "        yil = np.nan\n",
    "    \n",
    "    try:\n",
    "        marka = driver.find_element(by=By.XPATH, value='//*[@id=\"js-hook-for-observer-detail\"]/div[2]/ul/li[3]/span[2]').text\n",
    "    except:\n",
    "        marka = np.nan\n",
    "    \n",
    "    try:\n",
    "        seri = driver.find_element(by=By.XPATH, value='//*[@id=\"js-hook-for-observer-detail\"]/div[2]/ul/li[4]/span[2]').text\n",
    "    except:\n",
    "        seri = np.nan\n",
    "    \n",
    "    try:\n",
    "        model = driver.find_element(by=By.XPATH, value='//*[@id=\"js-hook-for-observer-detail\"]/div[2]/ul/li[5]/span[2]').text\n",
    "    except:\n",
    "        model = np.nan\n",
    "\n",
    "    try:\n",
    "        kilometre = float(driver.find_element(by=By.XPATH, value='//*[@id=\"js-hook-for-observer-detail\"]/div[2]/ul/li[7]/span[2]').text.replace(\"km\",\"\").strip())\n",
    "    except:\n",
    "        kilometre = np.nan\n",
    "    \n",
    "    try:\n",
    "        vites_tipi = driver.find_element(by=By.XPATH, value='//*[@id=\"js-hook-for-observer-detail\"]/div[2]/ul/li[8]/span[2]').text\n",
    "    except:\n",
    "        vites_tipi = np.nan\n",
    "    \n",
    "    try:\n",
    "        yakit_tipi = driver.find_element(by=By.XPATH, value='//*[@id=\"js-hook-for-observer-detail\"]/div[2]/ul/li[9]/span[2]').text\n",
    "    except:\n",
    "        yakit_tipi = np.nan\n",
    "    \n",
    "    try:\n",
    "        motor_hacmi = float(driver.find_element(by=By.XPATH, value='//*[@id=\"js-hook-for-observer-detail\"]/div[2]/ul/li[11]/span[2]').text.replace(\"cc\",\"\"))\n",
    "    except:\n",
    "        motor_hacmi = np.nan\n",
    "    \n",
    "    try:\n",
    "        motor_gucu = float(driver.find_element(by=By.XPATH, value='//*[@id=\"js-hook-for-observer-detail\"]/div[2]/ul/li[12]/span[2]').text.replace(\"hp\",\"\"))\n",
    "    except:\n",
    "        motor_gucu = np.nan\n",
    "\n",
    "    try:\n",
    "        cekis = driver.find_element(by=By.XPATH, value='//*[@id=\"js-hook-for-observer-detail\"]/div[2]/ul/li[13]/span[2]').text\n",
    "    except:\n",
    "        cekis = np.nan\n",
    "    \n",
    "    try:\n",
    "        ort_yakit_tuk = float(driver.find_element(by=By.XPATH, value='//*[@id=\"js-hook-for-observer-detail\"]/div[2]/ul/li[14]/span[2]').text.replace(\"lt\",\"\"))\n",
    "    except:\n",
    "        ort_yakit_tuk = np.nan\n",
    "    \n",
    "    try:\n",
    "        yakit_deposu = float(driver.find_element(by=By.XPATH, value='//*[@id=\"js-hook-for-observer-detail\"]/div[2]/ul/li[15]/span[2]').text.replace(\"lt\",\"\"))\n",
    "    except:\n",
    "        yakit_deposu = np.nan\n",
    "    \n",
    "    try:\n",
    "        boya_degisen = driver.find_element(by=By.XPATH, value='//*[@id=\"js-hook-for-observer-detail\"]/div[2]/ul/li[16]/a').text\n",
    "    except:\n",
    "        boya_degisen = np.nan\n",
    "    \n",
    "    new_row =[fiyat,yil,renk, marka , seri , model, kilometre, vites_tipi, yakit_tipi, cekis, ort_yakit_tuk, yakit_deposu,tork, motor_hacmi, motor_gucu, koltuk_sayisi, boya_degisen]\n",
    "    result.append(new_row)\n",
    "\n",
    "    \n",
    "columns = [\"fiyat\", \"yil\", \"marka\" , \"seri\" , \"model\", \"kilometre\", \"vites_tipi\", \"yakit_tipi\", \"cekis\", \"ort_yakit_tuk\", \"yakit_deposu\", \"motor_hacmi\", \"motor_gucu\", \"boya_degisen\"]\n",
    "df = pd.DataFrame.from_records(result, columns=columns)\n",
    "df.to_csv(\"cars.csv\", index_label=False)\n",
    "print(f\"link sayisi :  {len(result)}\")"
   ]
  }
 ],
 "metadata": {
  "kernelspec": {
   "display_name": "Python 3 (ipykernel)",
   "language": "python",
   "name": "python3"
  },
  "language_info": {
   "codemirror_mode": {
    "name": "ipython",
    "version": 3
   },
   "file_extension": ".py",
   "mimetype": "text/x-python",
   "name": "python",
   "nbconvert_exporter": "python",
   "pygments_lexer": "ipython3",
   "version": "3.9.13"
  }
 },
 "nbformat": 4,
 "nbformat_minor": 5
}
